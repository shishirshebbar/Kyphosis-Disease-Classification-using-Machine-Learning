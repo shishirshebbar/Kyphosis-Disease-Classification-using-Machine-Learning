{
 "cells": [
  {
   "cell_type": "markdown",
   "metadata": {},
   "source": [
    "# IMPORT LIBRARIES AND DATASETS\n"
   ]
  },
  {
   "cell_type": "code",
   "execution_count": 40,
   "metadata": {},
   "outputs": [],
   "source": [
    "import pandas as pd\n",
    "import numpy as np\n",
    "import matplotlib.pyplot as plt\n",
    "import seaborn as sns\n",
    "\n",
    "\n",
    "\n",
   ]
  },
  {
   "cell_type": "code",
   "execution_count": 41,
   "metadata": {},
   "outputs": [],
   "source": [
    "Kyphosis_df = pd.read_csv('kyphosis.csv')"
   ]
  },
  {
   "cell_type": "code",
   "execution_count": 42,
   "metadata": {
    "scrolled": true
   },
   "outputs": [
    {
     "data": {
      "text/html": [
       "<div>\n",
       "<style scoped>\n",
       "    .dataframe tbody tr th:only-of-type {\n",
       "        vertical-align: middle;\n",
       "    }\n",
       "\n",
       "    .dataframe tbody tr th {\n",
       "        vertical-align: top;\n",
       "    }\n",
       "\n",
       "    .dataframe thead th {\n",
       "        text-align: right;\n",
       "    }\n",
       "</style>\n",
       "<table border=\"1\" class=\"dataframe\">\n",
       "  <thead>\n",
       "    <tr style=\"text-align: right;\">\n",
       "      <th></th>\n",
       "      <th>Kyphosis</th>\n",
       "      <th>Age</th>\n",
       "      <th>Number</th>\n",
       "      <th>Start</th>\n",
       "    </tr>\n",
       "  </thead>\n",
       "  <tbody>\n",
       "    <tr>\n",
       "      <th>0</th>\n",
       "      <td>absent</td>\n",
       "      <td>71</td>\n",
       "      <td>3</td>\n",
       "      <td>5</td>\n",
       "    </tr>\n",
       "    <tr>\n",
       "      <th>1</th>\n",
       "      <td>absent</td>\n",
       "      <td>158</td>\n",
       "      <td>3</td>\n",
       "      <td>14</td>\n",
       "    </tr>\n",
       "    <tr>\n",
       "      <th>2</th>\n",
       "      <td>present</td>\n",
       "      <td>128</td>\n",
       "      <td>4</td>\n",
       "      <td>5</td>\n",
       "    </tr>\n",
       "    <tr>\n",
       "      <th>3</th>\n",
       "      <td>absent</td>\n",
       "      <td>2</td>\n",
       "      <td>5</td>\n",
       "      <td>1</td>\n",
       "    </tr>\n",
       "    <tr>\n",
       "      <th>4</th>\n",
       "      <td>absent</td>\n",
       "      <td>1</td>\n",
       "      <td>4</td>\n",
       "      <td>15</td>\n",
       "    </tr>\n",
       "    <tr>\n",
       "      <th>...</th>\n",
       "      <td>...</td>\n",
       "      <td>...</td>\n",
       "      <td>...</td>\n",
       "      <td>...</td>\n",
       "    </tr>\n",
       "    <tr>\n",
       "      <th>76</th>\n",
       "      <td>present</td>\n",
       "      <td>157</td>\n",
       "      <td>3</td>\n",
       "      <td>13</td>\n",
       "    </tr>\n",
       "    <tr>\n",
       "      <th>77</th>\n",
       "      <td>absent</td>\n",
       "      <td>26</td>\n",
       "      <td>7</td>\n",
       "      <td>13</td>\n",
       "    </tr>\n",
       "    <tr>\n",
       "      <th>78</th>\n",
       "      <td>absent</td>\n",
       "      <td>120</td>\n",
       "      <td>2</td>\n",
       "      <td>13</td>\n",
       "    </tr>\n",
       "    <tr>\n",
       "      <th>79</th>\n",
       "      <td>present</td>\n",
       "      <td>42</td>\n",
       "      <td>7</td>\n",
       "      <td>6</td>\n",
       "    </tr>\n",
       "    <tr>\n",
       "      <th>80</th>\n",
       "      <td>absent</td>\n",
       "      <td>36</td>\n",
       "      <td>4</td>\n",
       "      <td>13</td>\n",
       "    </tr>\n",
       "  </tbody>\n",
       "</table>\n",
       "<p>81 rows × 4 columns</p>\n",
       "</div>"
      ],
      "text/plain": [
       "   Kyphosis  Age  Number  Start\n",
       "0    absent   71       3      5\n",
       "1    absent  158       3     14\n",
       "2   present  128       4      5\n",
       "3    absent    2       5      1\n",
       "4    absent    1       4     15\n",
       "..      ...  ...     ...    ...\n",
       "76  present  157       3     13\n",
       "77   absent   26       7     13\n",
       "78   absent  120       2     13\n",
       "79  present   42       7      6\n",
       "80   absent   36       4     13\n",
       "\n",
       "[81 rows x 4 columns]"
      ]
     },
     "execution_count": 42,
     "metadata": {},
     "output_type": "execute_result"
    }
   ],
   "source": [
    "Kyphosis_df"
   ]
  },
  {
   "cell_type": "code",
   "execution_count": 43,
   "metadata": {
    "scrolled": true
   },
   "outputs": [
    {
     "data": {
      "text/html": [
       "<div>\n",
       "<style scoped>\n",
       "    .dataframe tbody tr th:only-of-type {\n",
       "        vertical-align: middle;\n",
       "    }\n",
       "\n",
       "    .dataframe tbody tr th {\n",
       "        vertical-align: top;\n",
       "    }\n",
       "\n",
       "    .dataframe thead th {\n",
       "        text-align: right;\n",
       "    }\n",
       "</style>\n",
       "<table border=\"1\" class=\"dataframe\">\n",
       "  <thead>\n",
       "    <tr style=\"text-align: right;\">\n",
       "      <th></th>\n",
       "      <th>Kyphosis</th>\n",
       "      <th>Age</th>\n",
       "      <th>Number</th>\n",
       "      <th>Start</th>\n",
       "    </tr>\n",
       "  </thead>\n",
       "  <tbody>\n",
       "    <tr>\n",
       "      <th>78</th>\n",
       "      <td>absent</td>\n",
       "      <td>120</td>\n",
       "      <td>2</td>\n",
       "      <td>13</td>\n",
       "    </tr>\n",
       "    <tr>\n",
       "      <th>79</th>\n",
       "      <td>present</td>\n",
       "      <td>42</td>\n",
       "      <td>7</td>\n",
       "      <td>6</td>\n",
       "    </tr>\n",
       "    <tr>\n",
       "      <th>80</th>\n",
       "      <td>absent</td>\n",
       "      <td>36</td>\n",
       "      <td>4</td>\n",
       "      <td>13</td>\n",
       "    </tr>\n",
       "  </tbody>\n",
       "</table>\n",
       "</div>"
      ],
      "text/plain": [
       "   Kyphosis  Age  Number  Start\n",
       "78   absent  120       2     13\n",
       "79  present   42       7      6\n",
       "80   absent   36       4     13"
      ]
     },
     "execution_count": 43,
     "metadata": {},
     "output_type": "execute_result"
    }
   ],
   "source": [
    "Kyphosis_df.tail(3)"
   ]
  },
  {
   "cell_type": "code",
   "execution_count": 44,
   "metadata": {
    "scrolled": true
   },
   "outputs": [
    {
     "name": "stdout",
     "output_type": "stream",
     "text": [
      "<class 'pandas.core.frame.DataFrame'>\n",
      "RangeIndex: 81 entries, 0 to 80\n",
      "Data columns (total 4 columns):\n",
      " #   Column    Non-Null Count  Dtype \n",
      "---  ------    --------------  ----- \n",
      " 0   Kyphosis  81 non-null     object\n",
      " 1   Age       81 non-null     int64 \n",
      " 2   Number    81 non-null     int64 \n",
      " 3   Start     81 non-null     int64 \n",
      "dtypes: int64(3), object(1)\n",
      "memory usage: 2.7+ KB\n"
     ]
    }
   ],
   "source": [
    "Kyphosis_df.info()"
   ]
  },
  {
   "cell_type": "markdown",
   "metadata": {},
   "source": [
    "# PERFORM DATA VISUALIZATION"
   ]
  },
  {
   "cell_type": "code",
   "execution_count": 45,
   "metadata": {
    "scrolled": true
   },
   "outputs": [
    {
     "data": {
      "text/html": [
       "<div>\n",
       "<style scoped>\n",
       "    .dataframe tbody tr th:only-of-type {\n",
       "        vertical-align: middle;\n",
       "    }\n",
       "\n",
       "    .dataframe tbody tr th {\n",
       "        vertical-align: top;\n",
       "    }\n",
       "\n",
       "    .dataframe thead th {\n",
       "        text-align: right;\n",
       "    }\n",
       "</style>\n",
       "<table border=\"1\" class=\"dataframe\">\n",
       "  <thead>\n",
       "    <tr style=\"text-align: right;\">\n",
       "      <th></th>\n",
       "      <th>Kyphosis</th>\n",
       "      <th>Age</th>\n",
       "      <th>Number</th>\n",
       "      <th>Start</th>\n",
       "    </tr>\n",
       "  </thead>\n",
       "  <tbody>\n",
       "    <tr>\n",
       "      <th>0</th>\n",
       "      <td>absent</td>\n",
       "      <td>71</td>\n",
       "      <td>3</td>\n",
       "      <td>5</td>\n",
       "    </tr>\n",
       "    <tr>\n",
       "      <th>1</th>\n",
       "      <td>absent</td>\n",
       "      <td>158</td>\n",
       "      <td>3</td>\n",
       "      <td>14</td>\n",
       "    </tr>\n",
       "    <tr>\n",
       "      <th>2</th>\n",
       "      <td>present</td>\n",
       "      <td>128</td>\n",
       "      <td>4</td>\n",
       "      <td>5</td>\n",
       "    </tr>\n",
       "    <tr>\n",
       "      <th>3</th>\n",
       "      <td>absent</td>\n",
       "      <td>2</td>\n",
       "      <td>5</td>\n",
       "      <td>1</td>\n",
       "    </tr>\n",
       "    <tr>\n",
       "      <th>4</th>\n",
       "      <td>absent</td>\n",
       "      <td>1</td>\n",
       "      <td>4</td>\n",
       "      <td>15</td>\n",
       "    </tr>\n",
       "    <tr>\n",
       "      <th>...</th>\n",
       "      <td>...</td>\n",
       "      <td>...</td>\n",
       "      <td>...</td>\n",
       "      <td>...</td>\n",
       "    </tr>\n",
       "    <tr>\n",
       "      <th>76</th>\n",
       "      <td>present</td>\n",
       "      <td>157</td>\n",
       "      <td>3</td>\n",
       "      <td>13</td>\n",
       "    </tr>\n",
       "    <tr>\n",
       "      <th>77</th>\n",
       "      <td>absent</td>\n",
       "      <td>26</td>\n",
       "      <td>7</td>\n",
       "      <td>13</td>\n",
       "    </tr>\n",
       "    <tr>\n",
       "      <th>78</th>\n",
       "      <td>absent</td>\n",
       "      <td>120</td>\n",
       "      <td>2</td>\n",
       "      <td>13</td>\n",
       "    </tr>\n",
       "    <tr>\n",
       "      <th>79</th>\n",
       "      <td>present</td>\n",
       "      <td>42</td>\n",
       "      <td>7</td>\n",
       "      <td>6</td>\n",
       "    </tr>\n",
       "    <tr>\n",
       "      <th>80</th>\n",
       "      <td>absent</td>\n",
       "      <td>36</td>\n",
       "      <td>4</td>\n",
       "      <td>13</td>\n",
       "    </tr>\n",
       "  </tbody>\n",
       "</table>\n",
       "<p>81 rows × 4 columns</p>\n",
       "</div>"
      ],
      "text/plain": [
       "   Kyphosis  Age  Number  Start\n",
       "0    absent   71       3      5\n",
       "1    absent  158       3     14\n",
       "2   present  128       4      5\n",
       "3    absent    2       5      1\n",
       "4    absent    1       4     15\n",
       "..      ...  ...     ...    ...\n",
       "76  present  157       3     13\n",
       "77   absent   26       7     13\n",
       "78   absent  120       2     13\n",
       "79  present   42       7      6\n",
       "80   absent   36       4     13\n",
       "\n",
       "[81 rows x 4 columns]"
      ]
     },
     "execution_count": 45,
     "metadata": {},
     "output_type": "execute_result"
    }
   ],
   "source": [
    "Kyphosis_df"
   ]
  },
  {
   "cell_type": "code",
   "execution_count": 46,
   "metadata": {},
   "outputs": [],
   "source": [
    "from sklearn.preprocessing import LabelEncoder, OneHotEncoder\n",
    "LabelEncoder_y = LabelEncoder()\n",
    "Kyphosis_df['Kyphosis'] = LabelEncoder_y.fit_transform(Kyphosis_df['Kyphosis'])"
   ]
  },
  {
   "cell_type": "code",
   "execution_count": 47,
   "metadata": {
    "scrolled": true
   },
   "outputs": [
    {
     "data": {
      "text/html": [
       "<div>\n",
       "<style scoped>\n",
       "    .dataframe tbody tr th:only-of-type {\n",
       "        vertical-align: middle;\n",
       "    }\n",
       "\n",
       "    .dataframe tbody tr th {\n",
       "        vertical-align: top;\n",
       "    }\n",
       "\n",
       "    .dataframe thead th {\n",
       "        text-align: right;\n",
       "    }\n",
       "</style>\n",
       "<table border=\"1\" class=\"dataframe\">\n",
       "  <thead>\n",
       "    <tr style=\"text-align: right;\">\n",
       "      <th></th>\n",
       "      <th>Kyphosis</th>\n",
       "      <th>Age</th>\n",
       "      <th>Number</th>\n",
       "      <th>Start</th>\n",
       "    </tr>\n",
       "  </thead>\n",
       "  <tbody>\n",
       "    <tr>\n",
       "      <th>0</th>\n",
       "      <td>0</td>\n",
       "      <td>71</td>\n",
       "      <td>3</td>\n",
       "      <td>5</td>\n",
       "    </tr>\n",
       "    <tr>\n",
       "      <th>1</th>\n",
       "      <td>0</td>\n",
       "      <td>158</td>\n",
       "      <td>3</td>\n",
       "      <td>14</td>\n",
       "    </tr>\n",
       "    <tr>\n",
       "      <th>2</th>\n",
       "      <td>1</td>\n",
       "      <td>128</td>\n",
       "      <td>4</td>\n",
       "      <td>5</td>\n",
       "    </tr>\n",
       "    <tr>\n",
       "      <th>3</th>\n",
       "      <td>0</td>\n",
       "      <td>2</td>\n",
       "      <td>5</td>\n",
       "      <td>1</td>\n",
       "    </tr>\n",
       "    <tr>\n",
       "      <th>4</th>\n",
       "      <td>0</td>\n",
       "      <td>1</td>\n",
       "      <td>4</td>\n",
       "      <td>15</td>\n",
       "    </tr>\n",
       "    <tr>\n",
       "      <th>...</th>\n",
       "      <td>...</td>\n",
       "      <td>...</td>\n",
       "      <td>...</td>\n",
       "      <td>...</td>\n",
       "    </tr>\n",
       "    <tr>\n",
       "      <th>76</th>\n",
       "      <td>1</td>\n",
       "      <td>157</td>\n",
       "      <td>3</td>\n",
       "      <td>13</td>\n",
       "    </tr>\n",
       "    <tr>\n",
       "      <th>77</th>\n",
       "      <td>0</td>\n",
       "      <td>26</td>\n",
       "      <td>7</td>\n",
       "      <td>13</td>\n",
       "    </tr>\n",
       "    <tr>\n",
       "      <th>78</th>\n",
       "      <td>0</td>\n",
       "      <td>120</td>\n",
       "      <td>2</td>\n",
       "      <td>13</td>\n",
       "    </tr>\n",
       "    <tr>\n",
       "      <th>79</th>\n",
       "      <td>1</td>\n",
       "      <td>42</td>\n",
       "      <td>7</td>\n",
       "      <td>6</td>\n",
       "    </tr>\n",
       "    <tr>\n",
       "      <th>80</th>\n",
       "      <td>0</td>\n",
       "      <td>36</td>\n",
       "      <td>4</td>\n",
       "      <td>13</td>\n",
       "    </tr>\n",
       "  </tbody>\n",
       "</table>\n",
       "<p>81 rows × 4 columns</p>\n",
       "</div>"
      ],
      "text/plain": [
       "    Kyphosis  Age  Number  Start\n",
       "0          0   71       3      5\n",
       "1          0  158       3     14\n",
       "2          1  128       4      5\n",
       "3          0    2       5      1\n",
       "4          0    1       4     15\n",
       "..       ...  ...     ...    ...\n",
       "76         1  157       3     13\n",
       "77         0   26       7     13\n",
       "78         0  120       2     13\n",
       "79         1   42       7      6\n",
       "80         0   36       4     13\n",
       "\n",
       "[81 rows x 4 columns]"
      ]
     },
     "execution_count": 47,
     "metadata": {},
     "output_type": "execute_result"
    }
   ],
   "source": [
    "Kyphosis_df"
   ]
  },
  {
   "cell_type": "code",
   "execution_count": 48,
   "metadata": {},
   "outputs": [],
   "source": [
    "Kyphosis_True = Kyphosis_df[Kyphosis_df['Kyphosis']==1]"
   ]
  },
  {
   "cell_type": "code",
   "execution_count": 49,
   "metadata": {},
   "outputs": [],
   "source": [
    "Kyphosis_False = Kyphosis_df[Kyphosis_df['Kyphosis']==0]"
   ]
  },
  {
   "cell_type": "code",
   "execution_count": 50,
   "metadata": {},
   "outputs": [
    {
     "name": "stdout",
     "output_type": "stream",
     "text": [
      "Disease present after operation percentage = 20.98765432098765 %\n"
     ]
    }
   ],
   "source": [
    "print( 'Disease present after operation percentage =', (len(Kyphosis_True) / len(Kyphosis_df) )*100,\"%\")"
   ]
  },
  {
   "cell_type": "code",
   "execution_count": 51,
   "metadata": {
    "scrolled": true
   },
   "outputs": [
    {
     "data": {
      "text/plain": [
       "<Axes: >"
      ]
     },
     "execution_count": 51,
     "metadata": {},
     "output_type": "execute_result"
    },
    {
     "data": {
      "image/png": "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",
      "text/plain": [
       "<Figure size 1000x1000 with 2 Axes>"
      ]
     },
     "metadata": {},
     "output_type": "display_data"
    }
   ],
   "source": [
    "plt.figure(figsize=(10,10)) \n",
    "sns.heatmap(Kyphosis_df.corr(), annot=True)"
   ]
  },
  {
   "cell_type": "code",
   "execution_count": 52,
   "metadata": {
    "scrolled": true
   },
   "outputs": [
    {
     "name": "stderr",
     "output_type": "stream",
     "text": [
      "C:\\Users\\shish\\anaconda3\\Lib\\site-packages\\seaborn\\_oldcore.py:1119: FutureWarning: use_inf_as_na option is deprecated and will be removed in a future version. Convert inf values to NaN before operating instead.\n",
      "  with pd.option_context('mode.use_inf_as_na', True):\n",
      "C:\\Users\\shish\\anaconda3\\Lib\\site-packages\\seaborn\\_oldcore.py:1119: FutureWarning: use_inf_as_na option is deprecated and will be removed in a future version. Convert inf values to NaN before operating instead.\n",
      "  with pd.option_context('mode.use_inf_as_na', True):\n",
      "C:\\Users\\shish\\anaconda3\\Lib\\site-packages\\seaborn\\_oldcore.py:1119: FutureWarning: use_inf_as_na option is deprecated and will be removed in a future version. Convert inf values to NaN before operating instead.\n",
      "  with pd.option_context('mode.use_inf_as_na', True):\n"
     ]
    },
    {
     "data": {
      "text/plain": [
       "<seaborn.axisgrid.PairGrid at 0x190539df590>"
      ]
     },
     "execution_count": 52,
     "metadata": {},
     "output_type": "execute_result"
    },
    {
     "data": {
      "image/png": "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",
      "text/plain": [
       "<Figure size 821.736x750 with 12 Axes>"
      ]
     },
     "metadata": {},
     "output_type": "display_data"
    }
   ],
   "source": [
    "sns.pairplot(Kyphosis_df, hue= 'Kyphosis')"
   ]
  },
  {
   "cell_type": "code",
   "execution_count": 53,
   "metadata": {
    "scrolled": true
   },
   "outputs": [
    {
     "data": {
      "text/plain": [
       "<Axes: xlabel='Kyphosis', ylabel='count'>"
      ]
     },
     "execution_count": 53,
     "metadata": {},
     "output_type": "execute_result"
    },
    {
     "data": {
      "image/png": "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",
      "text/plain": [
       "<Figure size 640x480 with 1 Axes>"
      ]
     },
     "metadata": {},
     "output_type": "display_data"
    }
   ],
   "source": [
    "sns.countplot(x= Kyphosis_df['Kyphosis'],label =\"Count\")"
   ]
  },
  {
   "cell_type": "markdown",
   "metadata": {},
   "source": [
    "# CREATE TESTING AND TRAINING DATASET/DATA CLEANING"
   ]
  },
  {
   "cell_type": "code",
   "execution_count": 54,
   "metadata": {
    "scrolled": true
   },
   "outputs": [],
   "source": [
    "# Let's drop the target label coloumns\n",
    "X = Kyphosis_df.drop(['Kyphosis'],axis=1)\n",
    "y = Kyphosis_df['Kyphosis']"
   ]
  },
  {
   "cell_type": "code",
   "execution_count": 55,
   "metadata": {
    "scrolled": true
   },
   "outputs": [
    {
     "data": {
      "text/html": [
       "<div>\n",
       "<style scoped>\n",
       "    .dataframe tbody tr th:only-of-type {\n",
       "        vertical-align: middle;\n",
       "    }\n",
       "\n",
       "    .dataframe tbody tr th {\n",
       "        vertical-align: top;\n",
       "    }\n",
       "\n",
       "    .dataframe thead th {\n",
       "        text-align: right;\n",
       "    }\n",
       "</style>\n",
       "<table border=\"1\" class=\"dataframe\">\n",
       "  <thead>\n",
       "    <tr style=\"text-align: right;\">\n",
       "      <th></th>\n",
       "      <th>Age</th>\n",
       "      <th>Number</th>\n",
       "      <th>Start</th>\n",
       "    </tr>\n",
       "  </thead>\n",
       "  <tbody>\n",
       "    <tr>\n",
       "      <th>0</th>\n",
       "      <td>71</td>\n",
       "      <td>3</td>\n",
       "      <td>5</td>\n",
       "    </tr>\n",
       "    <tr>\n",
       "      <th>1</th>\n",
       "      <td>158</td>\n",
       "      <td>3</td>\n",
       "      <td>14</td>\n",
       "    </tr>\n",
       "    <tr>\n",
       "      <th>2</th>\n",
       "      <td>128</td>\n",
       "      <td>4</td>\n",
       "      <td>5</td>\n",
       "    </tr>\n",
       "    <tr>\n",
       "      <th>3</th>\n",
       "      <td>2</td>\n",
       "      <td>5</td>\n",
       "      <td>1</td>\n",
       "    </tr>\n",
       "    <tr>\n",
       "      <th>4</th>\n",
       "      <td>1</td>\n",
       "      <td>4</td>\n",
       "      <td>15</td>\n",
       "    </tr>\n",
       "    <tr>\n",
       "      <th>...</th>\n",
       "      <td>...</td>\n",
       "      <td>...</td>\n",
       "      <td>...</td>\n",
       "    </tr>\n",
       "    <tr>\n",
       "      <th>76</th>\n",
       "      <td>157</td>\n",
       "      <td>3</td>\n",
       "      <td>13</td>\n",
       "    </tr>\n",
       "    <tr>\n",
       "      <th>77</th>\n",
       "      <td>26</td>\n",
       "      <td>7</td>\n",
       "      <td>13</td>\n",
       "    </tr>\n",
       "    <tr>\n",
       "      <th>78</th>\n",
       "      <td>120</td>\n",
       "      <td>2</td>\n",
       "      <td>13</td>\n",
       "    </tr>\n",
       "    <tr>\n",
       "      <th>79</th>\n",
       "      <td>42</td>\n",
       "      <td>7</td>\n",
       "      <td>6</td>\n",
       "    </tr>\n",
       "    <tr>\n",
       "      <th>80</th>\n",
       "      <td>36</td>\n",
       "      <td>4</td>\n",
       "      <td>13</td>\n",
       "    </tr>\n",
       "  </tbody>\n",
       "</table>\n",
       "<p>81 rows × 3 columns</p>\n",
       "</div>"
      ],
      "text/plain": [
       "    Age  Number  Start\n",
       "0    71       3      5\n",
       "1   158       3     14\n",
       "2   128       4      5\n",
       "3     2       5      1\n",
       "4     1       4     15\n",
       "..  ...     ...    ...\n",
       "76  157       3     13\n",
       "77   26       7     13\n",
       "78  120       2     13\n",
       "79   42       7      6\n",
       "80   36       4     13\n",
       "\n",
       "[81 rows x 3 columns]"
      ]
     },
     "execution_count": 55,
     "metadata": {},
     "output_type": "execute_result"
    }
   ],
   "source": [
    "X"
   ]
  },
  {
   "cell_type": "code",
   "execution_count": 56,
   "metadata": {
    "scrolled": true
   },
   "outputs": [
    {
     "data": {
      "text/plain": [
       "0     0\n",
       "1     0\n",
       "2     1\n",
       "3     0\n",
       "4     0\n",
       "     ..\n",
       "76    1\n",
       "77    0\n",
       "78    0\n",
       "79    1\n",
       "80    0\n",
       "Name: Kyphosis, Length: 81, dtype: int32"
      ]
     },
     "execution_count": 56,
     "metadata": {},
     "output_type": "execute_result"
    }
   ],
   "source": [
    "y"
   ]
  },
  {
   "cell_type": "code",
   "execution_count": 57,
   "metadata": {},
   "outputs": [],
   "source": [
    "from sklearn.model_selection import train_test_split"
   ]
  },
  {
   "cell_type": "code",
   "execution_count": 58,
   "metadata": {},
   "outputs": [],
   "source": [
    "X_train,X_test,y_train,y_test = train_test_split(X,y,test_size=0.2)"
   ]
  },
  {
   "cell_type": "code",
   "execution_count": 59,
   "metadata": {},
   "outputs": [
    {
     "data": {
      "text/plain": [
       "(64, 3)"
      ]
     },
     "execution_count": 59,
     "metadata": {},
     "output_type": "execute_result"
    }
   ],
   "source": [
    "X_train.shape"
   ]
  },
  {
   "cell_type": "code",
   "execution_count": 60,
   "metadata": {},
   "outputs": [
    {
     "data": {
      "text/plain": [
       "(17, 3)"
      ]
     },
     "execution_count": 60,
     "metadata": {},
     "output_type": "execute_result"
    }
   ],
   "source": [
    "X_test.shape"
   ]
  },
  {
   "cell_type": "code",
   "execution_count": 61,
   "metadata": {},
   "outputs": [],
   "source": [
    "# from sklearn.preprocessing import StandardScaler\n",
    "# sc = StandardScaler()\n",
    "# X_train = sc.fit_transform(X_train)\n",
    "# X_test = sc.transform(X_test)\n"
   ]
  },
  {
   "cell_type": "markdown",
   "metadata": {},
   "source": [
    "# TRAIN A LOGISTIC REGRESSION CLASSIFIER MODEL"
   ]
  },
  {
   "cell_type": "code",
   "execution_count": 62,
   "metadata": {},
   "outputs": [
    {
     "data": {
      "text/plain": [
       "(64, 3)"
      ]
     },
     "execution_count": 62,
     "metadata": {},
     "output_type": "execute_result"
    }
   ],
   "source": [
    "X_train.shape"
   ]
  },
  {
   "cell_type": "code",
   "execution_count": 63,
   "metadata": {},
   "outputs": [
    {
     "data": {
      "text/plain": [
       "(64,)"
      ]
     },
     "execution_count": 63,
     "metadata": {},
     "output_type": "execute_result"
    }
   ],
   "source": [
    "y_train.shape"
   ]
  },
  {
   "cell_type": "code",
   "execution_count": 64,
   "metadata": {},
   "outputs": [
    {
     "data": {
      "text/plain": [
       "(17, 3)"
      ]
     },
     "execution_count": 64,
     "metadata": {},
     "output_type": "execute_result"
    }
   ],
   "source": [
    "X_test.shape"
   ]
  },
  {
   "cell_type": "code",
   "execution_count": 65,
   "metadata": {},
   "outputs": [
    {
     "data": {
      "text/plain": [
       "(17,)"
      ]
     },
     "execution_count": 65,
     "metadata": {},
     "output_type": "execute_result"
    }
   ],
   "source": [
    "y_test.shape"
   ]
  },
  {
   "cell_type": "code",
   "execution_count": 66,
   "metadata": {
    "scrolled": true
   },
   "outputs": [
    {
     "data": {
      "text/html": [
       "<style>#sk-container-id-4 {color: black;background-color: white;}#sk-container-id-4 pre{padding: 0;}#sk-container-id-4 div.sk-toggleable {background-color: white;}#sk-container-id-4 label.sk-toggleable__label {cursor: pointer;display: block;width: 100%;margin-bottom: 0;padding: 0.3em;box-sizing: border-box;text-align: center;}#sk-container-id-4 label.sk-toggleable__label-arrow:before {content: \"▸\";float: left;margin-right: 0.25em;color: #696969;}#sk-container-id-4 label.sk-toggleable__label-arrow:hover:before {color: black;}#sk-container-id-4 div.sk-estimator:hover label.sk-toggleable__label-arrow:before {color: black;}#sk-container-id-4 div.sk-toggleable__content {max-height: 0;max-width: 0;overflow: hidden;text-align: left;background-color: #f0f8ff;}#sk-container-id-4 div.sk-toggleable__content pre {margin: 0.2em;color: black;border-radius: 0.25em;background-color: #f0f8ff;}#sk-container-id-4 input.sk-toggleable__control:checked~div.sk-toggleable__content {max-height: 200px;max-width: 100%;overflow: auto;}#sk-container-id-4 input.sk-toggleable__control:checked~label.sk-toggleable__label-arrow:before {content: \"▾\";}#sk-container-id-4 div.sk-estimator input.sk-toggleable__control:checked~label.sk-toggleable__label {background-color: #d4ebff;}#sk-container-id-4 div.sk-label input.sk-toggleable__control:checked~label.sk-toggleable__label {background-color: #d4ebff;}#sk-container-id-4 input.sk-hidden--visually {border: 0;clip: rect(1px 1px 1px 1px);clip: rect(1px, 1px, 1px, 1px);height: 1px;margin: -1px;overflow: hidden;padding: 0;position: absolute;width: 1px;}#sk-container-id-4 div.sk-estimator {font-family: monospace;background-color: #f0f8ff;border: 1px dotted black;border-radius: 0.25em;box-sizing: border-box;margin-bottom: 0.5em;}#sk-container-id-4 div.sk-estimator:hover {background-color: #d4ebff;}#sk-container-id-4 div.sk-parallel-item::after {content: \"\";width: 100%;border-bottom: 1px solid gray;flex-grow: 1;}#sk-container-id-4 div.sk-label:hover label.sk-toggleable__label {background-color: #d4ebff;}#sk-container-id-4 div.sk-serial::before {content: \"\";position: absolute;border-left: 1px solid gray;box-sizing: border-box;top: 0;bottom: 0;left: 50%;z-index: 0;}#sk-container-id-4 div.sk-serial {display: flex;flex-direction: column;align-items: center;background-color: white;padding-right: 0.2em;padding-left: 0.2em;position: relative;}#sk-container-id-4 div.sk-item {position: relative;z-index: 1;}#sk-container-id-4 div.sk-parallel {display: flex;align-items: stretch;justify-content: center;background-color: white;position: relative;}#sk-container-id-4 div.sk-item::before, #sk-container-id-4 div.sk-parallel-item::before {content: \"\";position: absolute;border-left: 1px solid gray;box-sizing: border-box;top: 0;bottom: 0;left: 50%;z-index: -1;}#sk-container-id-4 div.sk-parallel-item {display: flex;flex-direction: column;z-index: 1;position: relative;background-color: white;}#sk-container-id-4 div.sk-parallel-item:first-child::after {align-self: flex-end;width: 50%;}#sk-container-id-4 div.sk-parallel-item:last-child::after {align-self: flex-start;width: 50%;}#sk-container-id-4 div.sk-parallel-item:only-child::after {width: 0;}#sk-container-id-4 div.sk-dashed-wrapped {border: 1px dashed gray;margin: 0 0.4em 0.5em 0.4em;box-sizing: border-box;padding-bottom: 0.4em;background-color: white;}#sk-container-id-4 div.sk-label label {font-family: monospace;font-weight: bold;display: inline-block;line-height: 1.2em;}#sk-container-id-4 div.sk-label-container {text-align: center;}#sk-container-id-4 div.sk-container {/* jupyter's `normalize.less` sets `[hidden] { display: none; }` but bootstrap.min.css set `[hidden] { display: none !important; }` so we also need the `!important` here to be able to override the default hidden behavior on the sphinx rendered scikit-learn.org. See: https://github.com/scikit-learn/scikit-learn/issues/21755 */display: inline-block !important;position: relative;}#sk-container-id-4 div.sk-text-repr-fallback {display: none;}</style><div id=\"sk-container-id-4\" class=\"sk-top-container\"><div class=\"sk-text-repr-fallback\"><pre>LogisticRegression()</pre><b>In a Jupyter environment, please rerun this cell to show the HTML representation or trust the notebook. <br />On GitHub, the HTML representation is unable to render, please try loading this page with nbviewer.org.</b></div><div class=\"sk-container\" hidden><div class=\"sk-item\"><div class=\"sk-estimator sk-toggleable\"><input class=\"sk-toggleable__control sk-hidden--visually\" id=\"sk-estimator-id-4\" type=\"checkbox\" checked><label for=\"sk-estimator-id-4\" class=\"sk-toggleable__label sk-toggleable__label-arrow\">LogisticRegression</label><div class=\"sk-toggleable__content\"><pre>LogisticRegression()</pre></div></div></div></div></div>"
      ],
      "text/plain": [
       "LogisticRegression()"
      ]
     },
     "execution_count": 66,
     "metadata": {},
     "output_type": "execute_result"
    }
   ],
   "source": [
    "from sklearn.linear_model import LogisticRegression\n",
    "model = LogisticRegression()\n",
    "model.fit(X_train,y_train)"
   ]
  },
  {
   "cell_type": "markdown",
   "metadata": {},
   "source": [
    "# EVALUATE TRAINED MODEL PERFORMANCE "
   ]
  },
  {
   "cell_type": "code",
   "execution_count": 67,
   "metadata": {},
   "outputs": [],
   "source": [
    "from sklearn.metrics import classification_report, confusion_matrix"
   ]
  },
  {
   "cell_type": "code",
   "execution_count": 68,
   "metadata": {},
   "outputs": [
    {
     "data": {
      "text/plain": [
       "<Axes: >"
      ]
     },
     "execution_count": 68,
     "metadata": {},
     "output_type": "execute_result"
    },
    {
     "data": {
      "image/png": "iVBORw0KGgoAAAANSUhEUgAAAf8AAAGiCAYAAADp4c+XAAAAOXRFWHRTb2Z0d2FyZQBNYXRwbG90bGliIHZlcnNpb24zLjguMCwgaHR0cHM6Ly9tYXRwbG90bGliLm9yZy81sbWrAAAACXBIWXMAAA9hAAAPYQGoP6dpAAAYaElEQVR4nO3df5BV5Zkn8OeG0Ssy2AZZGroiEUcrGjAE0ViiKFQiU0QxbEotfySixioYWce2V0XW30mFO1pTypasJpiJMpXVOLUJxEpKR9aAxMKUCJKo2ZWgrCjawzJaEFAvP/ruH7My6bcbtOXcvtdzPh/r/HHPvfec96aK+uZ53ve8XarVarUAAArjM40eAADQv4Q/ABSM8AeAghH+AFAwwh8ACkb4A0DBCH8AKBjhDwAFI/wBoGCEPwAUjPAHgCaxYsWKmDZtWrS1tUWpVIolS5bsfW/Xrl0xZ86cOOGEE2LQoEHR1tYWl156abz11lt9vo/wB4AmsWPHjhg7dmwsWLCgx3vvvfderFmzJm655ZZYs2ZN/PznP49169bFueee2+f7lPxhHwBoPqVSKRYvXhzTp0/f52dWrVoVX/nKV+L111+PkSNHfuxr/0UG4wMA9qFarUa1Wu12rlwuR7lcPuBrb926NUqlUhx++OF9+l7ThP+uLa81egjQdAa2TWz0EKAp7d65qa7XzzKTKgv+Me64445u52677ba4/fbbD+i6H3zwQdx4441x8cUXx2GHHdan7zZN+ANA0+jak9ml5s6dGx0dHd3OHWjVv2vXrrjwwgujq6sr7rvvvj5/X/gDQB1l1eL/0K5du+KCCy6IDRs2xK9//es+V/0Rwh8Aeqp1NXoEvfow+P/4xz/GsmXL4ogjjvhE1xH+AJDqakz4b9++PdavX7/39YYNG2Lt2rUxZMiQaGtri/POOy/WrFkTv/zlL2PPnj3R2dkZERFDhgyJgw8++GPfp2ke9bPgD3qy4A96V+8Ffzvfejmzax3cNvpjf3b58uUxefLkHudnzJgRt99+e4waNarX7y1btiwmTZr0se+j8geAJjFp0qTYX02eVb0u/AEg1aC2f38R/gCQatIFf1mxtz8AFIzKHwBSGW7y04yEPwCktP0BgDxR+QNAymp/ACiWmrY/AJAnKn8ASGn7A0DB5LztL/wBIJXz5/zN+QNAwaj8ASCl7Q8ABZPzBX/a/gBQMCp/AEhp+wNAwWj7AwB5ovIHgEStlu/n/IU/AKRyPuev7Q8ABaPyB4BUzhf8CX8ASOW87S/8ASDlD/sAAHmi8geAlLY/ABRMzhf8afsDQMGo/AEgpe0PAAWj7Q8A5InKHwBSOa/8hT8AJPL+V/20/QGgYFT+AJDS9geAgvGoHwAUTM4rf3P+AFAwKn8ASGn7A0DBaPsDAHmi8geAlLY/ABSMtj8AkCcqfwBI5bzyF/4AkMr5nL+2PwAUjMofAFLa/gBQMDlv+wt/AEjlvPI35w8ABaPyB4CUtj8AFIy2PwCQJyp/AEip/AGgYGq17I4+WLFiRUybNi3a2tqiVCrFkiVLkmHV4vbbb4+2trYYOHBgTJo0KV5++eU+/zzhDwBNYseOHTF27NhYsGBBr+/fddddcffdd8eCBQti1apVMXz48DjrrLPiT3/6U5/uo+0PAKkGtf2nTp0aU6dO7fW9Wq0W8+fPj5tuuim++c1vRkTEokWLorW1NR5++OGYOXPmx76Pyh8AUl1dmR3VajW2bdvW7ahWq30e0oYNG6KzszOmTJmy91y5XI4zzzwzVq5c2adrCX8AqKNKpRItLS3djkql0ufrdHZ2RkREa2trt/Otra173/u4tP0BIJXhJj9z594cHR0d3c6Vy+VPfL1SqdTtda1W63Huowh/AEhlOOdfLpcPKOw/NHz48Ij4tw7AiBEj9p7fvHlzj27AR9H2B4BUgx71259Ro0bF8OHDY+nSpXvP7dy5M55++umYMGFCn66l8geAJrF9+/ZYv3793tcbNmyItWvXxpAhQ2LkyJHR3t4e8+bNi2OPPTaOPfbYmDdvXhx66KFx8cUX9+k+wh8AUg161O/555+PyZMn73394VqBGTNmxEMPPRQ33HBDvP/++3HVVVfFu+++G6eccko8+eSTMXjw4D7dp1SrZdiTOAC7trzW6CFA0xnYNrHRQ4CmtHvnprpe//1/uC6zaw38zt9ndq2smPMHgILR9geAVIaP+jUj4Q8AiVpXU8yI1422PwAUjMofAFINWu3fX4Q/AKRyPuev7Q8ABaPyB4BUzhf8CX8ASJnzB4CCyXn4m/MHgIJR+QNAqjn+7E3dCH8ASGn7k0fPr30xZt9wW0w+95IYc9rUeGrFyr3v7dq9O+6+7x/iP377b+Lkr06PyedeEnO/9/ex+f/+awNHDP1v4umnxJLFD8XG/7M6du/cFOee+9eNHhJkQvgX1PvvfxBfOObo+C8dV/V474MPqvGHV16NmZddFP/04wUxf97N8frGN+M/zbmjASOFxhk06ND4/e//EH/bfnOjh0J/66pldzQhbf+CmnjqyTHx1JN7fW/wXw6KH/3Xed3Oze34m7joyvZ4u3NzjBg+rD+GCA33xD8viyf+eVmjh0Ej5HyHvz6H/5tvvhn3339/rFy5Mjo7O6NUKkVra2tMmDAhZs2aFUceeWQ9xkmDbd/+XpRKpRg8eFCjhwLAAepT+D/zzDMxderUOPLII2PKlCkxZcqUqNVqsXnz5liyZEnce++98fjjj8dpp5223+tUq9WoVqvdzn2mWo1yudz3X0DdVas74577H4yvnzUp/nKQ8AcKoEnb9VnpU/hfe+21ceWVV8Y999yzz/fb29tj1apV+71OpVKJO+7oPn988/V/G7fecE1fhkM/2LV7d1x/299FrdYVt1w3u9HDAegXNav9/91LL70Us2bN2uf7M2fOjJdeeukjrzN37tzYunVrt2PONfu+Lo2xa/fu+M+3zIs33+6MB+bPU/UD5ESfKv8RI0bEypUr4wtf+EKv7z/77LMxYsSIj7xOuVzu0eLftXNLX4ZCnX0Y/BvfeCt+fO/fxeEthzV6SAD9R9v/31133XUxa9asWL16dZx11lnR2toapVIpOjs7Y+nSpfGjH/0o5s+fX6ehkqX33ns/Nr751t7Xm976l/jf616NlsMGx38YekR03PT9+MO69fHf7rojurq6Ysu/vhMRES2HDY6DDjqoUcOGfjVo0KFxzDGj9r4eddTIGDt2dLzzzrvxxhtv7eebfOrlfLV/qVbr2x6Gjz76aNxzzz2xevXq2LNnT0REDBgwIMaPHx8dHR1xwQUXfKKB7Nry2if6Hp/Mc2t+H1dcPafH+W9M/Vpc9Z1vxV+fd1mv3/vxvXfGV078Up1Hx4cGtk1s9BAK7cwzTo2n/uf/6HF+0T/+U3znymsbMCI+tHvnprpef8d3L8nsWoNu/e+ZXSsrfQ7/D+3atSu2bPm3Vv3QoUMPuBoU/tCT8IfeCf8D84k3+TnooIM+1vw+AHzq5Hy1vx3+ACCV8wV/9vYHgIJR+QNAKuer/YU/AKS0/QGAPFH5A0Ai73v7C38ASGn7AwB5ovIHgFTOK3/hDwApj/oBQMHkvPI35w8ABaPyB4BELeeVv/AHgFTOw1/bHwAKRuUPACk7/AFAwWj7AwB5ovIHgFTOK3/hDwCJWi3f4a/tDwAFo/IHgJS2PwAUjPAHgGLJ+/a+5vwBoGBU/gCQynnlL/wBIJXv3X21/QGgaFT+AJDI+4I/4Q8AqZyHv7Y/ABSM8AeAVFeGRx/s3r07br755hg1alQMHDgwjj766Pjud78bXV3ZrkDU9geARKPm/O+88874wQ9+EIsWLYrRo0fH888/H5dffnm0tLTENddck9l9hD8ANIlnn302vvGNb8TZZ58dERFHHXVUPPLII/H8889neh9tfwBIZdj2r1arsW3btm5HtVrt9bann356PPXUU7Fu3bqIiPjd734XzzzzTHz961/P9OcJfwBI1LpqmR2VSiVaWlq6HZVKpdf7zpkzJy666KI47rjj4qCDDopx48ZFe3t7XHTRRZn+Pm1/AEhluL5u7ty50dHR0e1cuVzu9bOPPvpo/OQnP4mHH344Ro8eHWvXro329vZoa2uLGTNmZDYm4Q8AdVQul/cZ9qnrr78+brzxxrjwwgsjIuKEE06I119/PSqVivAHgHqqNWhv//feey8+85nuM/IDBgzwqB8A1F2Dwn/atGnx/e9/P0aOHBmjR4+OF154Ie6+++644oorMr2P8AeAJnHvvffGLbfcEldddVVs3rw52traYubMmXHrrbdmep9SrVZrig2Md215rdFDgKYzsG1io4cATWn3zk11vf6WqWdmdq2hjz+d2bWyovIHgFSD2v79xXP+AFAwKn8ASDRqtX9/Ef4AkBD+AFAweQ9/c/4AUDAqfwBI1UqNHkFdCX8ASGj7AwC5ovIHgEStS9sfAApF2x8AyBWVPwAkalb7A0CxaPsDALmi8geAhNX+AFAwtVqjR1Bfwh8AEnmv/M35A0DBqPwBIJH3yl/4A0Ai73P+2v4AUDAqfwBIaPsDQMHkfXtfbX8AKBiVPwAk8r63v/AHgESXtj8AkCcqfwBI5H3Bn/AHgIRH/QCgYOzwBwDkisofABLa/gBQMB71AwByReUPAAmP+gFAwVjtDwDkisofABJ5X/An/AEgkfc5f21/ACgYlT8AJPK+4E/4A0DCnH8/Oe648xo9BGg6nz+stdFDgEIy5w8A5ErTVP4A0Cy0/QGgYHK+3k/bHwCKRuUPAAltfwAoGKv9AYBcUfkDQKKr0QOoM+EPAIlaaPsDADmi8geARFfOH/QX/gCQ6Mp521/4A0DCnD8A0G82bdoU3/rWt+KII46IQw89NL785S/H6tWrM72Hyh8AEo161O/dd9+N0047LSZPnhyPP/54DBs2LF599dU4/PDDM72P8AeARJZt/2q1GtVqtdu5crkc5XK5x2fvvPPOOPLII+PBBx/ce+6oo47KbCwf0vYHgDqqVCrR0tLS7ahUKr1+9rHHHouTTjopzj///Bg2bFiMGzcuHnjggczHVKrVak3xQMNfDT2x0UMA4FPi1S1r6nr9J1ovzOxakzcu+tiV/yGHHBIRER0dHXH++efHc889F+3t7fHDH/4wLr300szGpO0PAIks5/z3FfS93rerK0466aSYN29eRESMGzcuXn755bj//vszDX9tfwBoEiNGjIgvfvGL3c4df/zxsXHjxkzvo/IHgESjnvM/7bTT4pVXXul2bt26dfH5z38+0/sIfwBIdDVoj59rr702JkyYEPPmzYsLLrggnnvuuVi4cGEsXLgw0/to+wNAkzj55JNj8eLF8cgjj8SYMWPie9/7XsyfPz8uueSSTO+j8geARCP39j/nnHPinHPOqes9hD8AJJriGfg6Ev4AkGjU9r79xZw/ABSMyh8AEl2lfP9JX+EPAIm8z/lr+wNAwaj8ASCR9wV/wh8AEo3a4a+/aPsDQMGo/AEg0cgd/vqD8AeAhNX+AECuqPwBIJH3BX/CHwASHvUDgIIx5w8A5IrKHwAS5vwBoGDyPuev7Q8ABaPyB4BE3it/4Q8AiVrO5/y1/QGgYFT+AJDQ9geAgsl7+Gv7A0DBqPwBIJH37X2FPwAk7PAHAAVjzh8AyBWVPwAk8l75C38ASOR9wZ+2PwAUjMofABJW+wNAweR9zl/bHwAKRuUPAIm8L/gT/gCQ6Mp5/Gv7A0DBqPwBIJH3BX/CHwAS+W76C38A6CHvlb85fwAoGJU/ACTs8AcABeNRPwAgV1T+AJDId90v/AGgB6v9AYBcUfkDQCLvC/6EPwAk8h392v4AUDgqfwBI5H3Bn/AHgIQ5fwAomHxHvzl/ACgclT8AJPI+56/yB4BELcP/PqlKpRKlUina29uz+2H/n/AHgCazatWqWLhwYXzpS1+qy/WFPwAkujI8qtVqbNu2rdtRrVb3ee/t27fHJZdcEg888EB89rOfrcvvE/4AkOiKWmZHpVKJlpaWbkelUtnnvWfPnh1nn312fO1rX6vb77PgDwDqaO7cudHR0dHtXLlc7vWzP/3pT2PNmjWxatWquo5J+ANAIsvn/Mvl8j7D/s+98cYbcc0118STTz4ZhxxySIYj6En4A0CiETv8rV69OjZv3hzjx4/fe27Pnj2xYsWKWLBgQVSr1RgwYEAm9xL+ANAEvvrVr8aLL77Y7dzll18exx13XMyZMyez4I8Q/gDQQyM2+Rk8eHCMGTOm27lBgwbFEUcc0eP8gRL+AJA4kM15Pg2EPwAkmmV73+XLl9flupk/5//GG2/EFVdcsd/P9LbhQa3WLP9TA0C+ZR7+77zzTixatGi/n+ltw4N33/+XrIcCAJ9IM+ztX099bvs/9thj+33/tdde+8hr9LbhwZdHndHXoQBAXeS9F93n8J8+fXqUSqWo1fb9/2ZKpdJ+r9Hbhgelkp2GAaA/9DlxR4wYET/72c+iq6ur12PNmjX1GCcA9JuuWi2zoxn1OfzHjx+/34D/qK4AADS7WoZHM+pz2//666+PHTt27PP9Y445JpYtW3ZAgwIA6qfP4T9x4sT9vj9o0KA488wzP/GAAKDRGrG3f3+yyQ8AJJr1Eb2sWGIPAAWj8geAhOf8AaBgzPkDQMGY8wcAckXlDwAJc/4AUDB536lW2x8ACkblDwAJq/0BoGDyPuev7Q8ABaPyB4BE3p/zF/4AkMj7nL+2PwAUjMofABJ5f85f+ANAIu+r/YU/ACTyvuDPnD8AFIzKHwASeV/tL/wBIJH3BX/a/gBQMCp/AEho+wNAwVjtDwDkisofABJdOV/wJ/wBIJHv6Nf2B4DCUfkDQMJqfwAoGOEPAAVjhz8AIFdU/gCQ0PYHgIKxwx8AkCsqfwBI5H3Bn/AHgETe5/y1/QGgYFT+AJDQ9geAgtH2BwByReUPAIm8P+cv/AEg0WXOHwCKJe+Vvzl/ACgYlT8AJLT9AaBgtP0BgFwR/gCQ6KrVMjv6olKpxMknnxyDBw+OYcOGxfTp0+OVV17J/PcJfwBI1DL8ry+efvrpmD17dvz2t7+NpUuXxu7du2PKlCmxY8eOTH+fOX8AaBJPPPFEt9cPPvhgDBs2LFavXh1nnHFGZvcR/gCQyHK1f7VajWq12u1cuVyOcrn8kd/dunVrREQMGTIks/FEaPsDQA9Ztv0rlUq0tLR0OyqVykePoVaLjo6OOP3002PMmDGZ/r5SrUn+buFfDT2x0UMA4FPi1S1r6nr9o4eOy+xa/2vTbz9R5T979uz41a9+Fc8880x87nOfy2w8Edr+ANBDrdaV2bU+bov/z1199dXx2GOPxYoVKzIP/gjhDwA9dDVok59arRZXX311LF68OJYvXx6jRo2qy32EPwAkGjUjPnv27Hj44YfjF7/4RQwePDg6OzsjIqKlpSUGDhyY2X3M+QPwqVPvOf+RQ07I7Fob33nxY3+2VCr1ev7BBx+Myy67LKMRqfwBoIdGtv37g/AHgESTNMXrxnP+AFAwKn8ASGS5w18zEv4AkOjrH+T5tNH2B4CCUfkDQCLvC/6EPwAkGvWoX3/R9geAglH5A0BC2x8ACsajfgBQMHmv/M35A0DBqPwBIJH31f7CHwAS2v4AQK6o/AEgYbU/ABSMP+wDAOSKyh8AEtr+AFAwVvsDALmi8geARN4X/Al/AEjkve0v/AEgkffwN+cPAAWj8geARL7r/ohSLe+9DfqkWq1GpVKJuXPnRrlcbvRwoCn4d0HeCH+62bZtW7S0tMTWrVvjsMMOa/RwoCn4d0HemPMHgIIR/gBQMMIfAApG+NNNuVyO2267zaIm+DP+XZA3FvwBQMGo/AGgYIQ/ABSM8AeAghH+AFAwwh8ACkb4s9d9990Xo0aNikMOOSTGjx8fv/nNbxo9JGioFStWxLRp06KtrS1KpVIsWbKk0UOCTAh/IiLi0Ucfjfb29rjpppvihRdeiIkTJ8bUqVNj48aNjR4aNMyOHTti7NixsWDBgkYPBTLlOX8iIuKUU06JE088Me6///69544//viYPn16VCqVBo4MmkOpVIrFixfH9OnTGz0UOGAqf2Lnzp2xevXqmDJlSrfzU6ZMiZUrVzZoVADUi/AntmzZEnv27InW1tZu51tbW6Ozs7NBowKgXoQ/e5VKpW6va7Vaj3MAfPoJf2Lo0KExYMCAHlX+5s2be3QDAPj0E/7EwQcfHOPHj4+lS5d2O7906dKYMGFCg0YFQL38RaMHQHPo6OiIb3/723HSSSfFqaeeGgsXLoyNGzfGrFmzGj00aJjt27fH+vXr977esGFDrF27NoYMGRIjR45s4MjgwHjUj73uu+++uOuuu+Ltt9+OMWPGxD333BNnnHFGo4cFDbN8+fKYPHlyj/MzZsyIhx56qP8HBBkR/gBQMOb8AaBghD8AFIzwB4CCEf4AUDDCHwAKRvgDQMEIfwAoGOEPAAUj/AGgYIQ/ABSM8AeAgvl/EDbqCMM5bDEAAAAASUVORK5CYII=",
      "text/plain": [
       "<Figure size 640x480 with 2 Axes>"
      ]
     },
     "metadata": {},
     "output_type": "display_data"
    }
   ],
   "source": [
    "# Predicting the Test set results\n",
    "y_predict_test = model.predict(X_test)\n",
    "cm = confusion_matrix(y_test,y_predict_test)\n",
    "sns.heatmap(cm, annot = True)"
   ]
  },
  {
   "cell_type": "code",
   "execution_count": 69,
   "metadata": {},
   "outputs": [
    {
     "name": "stdout",
     "output_type": "stream",
     "text": [
      "              precision    recall  f1-score   support\n",
      "\n",
      "           0       0.86      0.92      0.89        13\n",
      "           1       0.67      0.50      0.57         4\n",
      "\n",
      "    accuracy                           0.82        17\n",
      "   macro avg       0.76      0.71      0.73        17\n",
      "weighted avg       0.81      0.82      0.81        17\n",
      "\n"
     ]
    }
   ],
   "source": [
    "print(classification_report(y_test,y_predict_test))"
   ]
  },
  {
   "cell_type": "code",
   "execution_count": 70,
   "metadata": {},
   "outputs": [],
   "source": [
    "from sklearn.metrics import accuracy_score"
   ]
  },
  {
   "cell_type": "code",
   "execution_count": 71,
   "metadata": {},
   "outputs": [
    {
     "data": {
      "text/plain": [
       "0.8235294117647058"
      ]
     },
     "execution_count": 71,
     "metadata": {},
     "output_type": "execute_result"
    }
   ],
   "source": [
    "accuracy = accuracy_score(y_test,y_predict_test)\n",
    "accuracy"
   ]
  },
  {
   "cell_type": "markdown",
   "metadata": {},
   "source": [
    "# IMPROVE THE MODEL USING DECISION TREES AND RANDOM FOREST CLASSIFIER MODELS"
   ]
  },
  {
   "cell_type": "code",
   "execution_count": 72,
   "metadata": {},
   "outputs": [
    {
     "data": {
      "text/html": [
       "<style>#sk-container-id-5 {color: black;background-color: white;}#sk-container-id-5 pre{padding: 0;}#sk-container-id-5 div.sk-toggleable {background-color: white;}#sk-container-id-5 label.sk-toggleable__label {cursor: pointer;display: block;width: 100%;margin-bottom: 0;padding: 0.3em;box-sizing: border-box;text-align: center;}#sk-container-id-5 label.sk-toggleable__label-arrow:before {content: \"▸\";float: left;margin-right: 0.25em;color: #696969;}#sk-container-id-5 label.sk-toggleable__label-arrow:hover:before {color: black;}#sk-container-id-5 div.sk-estimator:hover label.sk-toggleable__label-arrow:before {color: black;}#sk-container-id-5 div.sk-toggleable__content {max-height: 0;max-width: 0;overflow: hidden;text-align: left;background-color: #f0f8ff;}#sk-container-id-5 div.sk-toggleable__content pre {margin: 0.2em;color: black;border-radius: 0.25em;background-color: #f0f8ff;}#sk-container-id-5 input.sk-toggleable__control:checked~div.sk-toggleable__content {max-height: 200px;max-width: 100%;overflow: auto;}#sk-container-id-5 input.sk-toggleable__control:checked~label.sk-toggleable__label-arrow:before {content: \"▾\";}#sk-container-id-5 div.sk-estimator input.sk-toggleable__control:checked~label.sk-toggleable__label {background-color: #d4ebff;}#sk-container-id-5 div.sk-label input.sk-toggleable__control:checked~label.sk-toggleable__label {background-color: #d4ebff;}#sk-container-id-5 input.sk-hidden--visually {border: 0;clip: rect(1px 1px 1px 1px);clip: rect(1px, 1px, 1px, 1px);height: 1px;margin: -1px;overflow: hidden;padding: 0;position: absolute;width: 1px;}#sk-container-id-5 div.sk-estimator {font-family: monospace;background-color: #f0f8ff;border: 1px dotted black;border-radius: 0.25em;box-sizing: border-box;margin-bottom: 0.5em;}#sk-container-id-5 div.sk-estimator:hover {background-color: #d4ebff;}#sk-container-id-5 div.sk-parallel-item::after {content: \"\";width: 100%;border-bottom: 1px solid gray;flex-grow: 1;}#sk-container-id-5 div.sk-label:hover label.sk-toggleable__label {background-color: #d4ebff;}#sk-container-id-5 div.sk-serial::before {content: \"\";position: absolute;border-left: 1px solid gray;box-sizing: border-box;top: 0;bottom: 0;left: 50%;z-index: 0;}#sk-container-id-5 div.sk-serial {display: flex;flex-direction: column;align-items: center;background-color: white;padding-right: 0.2em;padding-left: 0.2em;position: relative;}#sk-container-id-5 div.sk-item {position: relative;z-index: 1;}#sk-container-id-5 div.sk-parallel {display: flex;align-items: stretch;justify-content: center;background-color: white;position: relative;}#sk-container-id-5 div.sk-item::before, #sk-container-id-5 div.sk-parallel-item::before {content: \"\";position: absolute;border-left: 1px solid gray;box-sizing: border-box;top: 0;bottom: 0;left: 50%;z-index: -1;}#sk-container-id-5 div.sk-parallel-item {display: flex;flex-direction: column;z-index: 1;position: relative;background-color: white;}#sk-container-id-5 div.sk-parallel-item:first-child::after {align-self: flex-end;width: 50%;}#sk-container-id-5 div.sk-parallel-item:last-child::after {align-self: flex-start;width: 50%;}#sk-container-id-5 div.sk-parallel-item:only-child::after {width: 0;}#sk-container-id-5 div.sk-dashed-wrapped {border: 1px dashed gray;margin: 0 0.4em 0.5em 0.4em;box-sizing: border-box;padding-bottom: 0.4em;background-color: white;}#sk-container-id-5 div.sk-label label {font-family: monospace;font-weight: bold;display: inline-block;line-height: 1.2em;}#sk-container-id-5 div.sk-label-container {text-align: center;}#sk-container-id-5 div.sk-container {/* jupyter's `normalize.less` sets `[hidden] { display: none; }` but bootstrap.min.css set `[hidden] { display: none !important; }` so we also need the `!important` here to be able to override the default hidden behavior on the sphinx rendered scikit-learn.org. See: https://github.com/scikit-learn/scikit-learn/issues/21755 */display: inline-block !important;position: relative;}#sk-container-id-5 div.sk-text-repr-fallback {display: none;}</style><div id=\"sk-container-id-5\" class=\"sk-top-container\"><div class=\"sk-text-repr-fallback\"><pre>DecisionTreeClassifier()</pre><b>In a Jupyter environment, please rerun this cell to show the HTML representation or trust the notebook. <br />On GitHub, the HTML representation is unable to render, please try loading this page with nbviewer.org.</b></div><div class=\"sk-container\" hidden><div class=\"sk-item\"><div class=\"sk-estimator sk-toggleable\"><input class=\"sk-toggleable__control sk-hidden--visually\" id=\"sk-estimator-id-5\" type=\"checkbox\" checked><label for=\"sk-estimator-id-5\" class=\"sk-toggleable__label sk-toggleable__label-arrow\">DecisionTreeClassifier</label><div class=\"sk-toggleable__content\"><pre>DecisionTreeClassifier()</pre></div></div></div></div></div>"
      ],
      "text/plain": [
       "DecisionTreeClassifier()"
      ]
     },
     "execution_count": 72,
     "metadata": {},
     "output_type": "execute_result"
    }
   ],
   "source": [
    "from sklearn.tree import DecisionTreeClassifier\n",
    "decision_tree = DecisionTreeClassifier()\n",
    "decision_tree.fit(X_train, y_train)"
   ]
  },
  {
   "cell_type": "code",
   "execution_count": 73,
   "metadata": {},
   "outputs": [
    {
     "data": {
      "text/plain": [
       "<Axes: >"
      ]
     },
     "execution_count": 73,
     "metadata": {},
     "output_type": "execute_result"
    },
    {
     "data": {
      "image/png": "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",
      "text/plain": [
       "<Figure size 640x480 with 2 Axes>"
      ]
     },
     "metadata": {},
     "output_type": "display_data"
    }
   ],
   "source": [
    "# Predicting the Test set results\n",
    "y_predict_test = decision_tree.predict(X_test)\n",
    "cm = confusion_matrix(y_test, y_predict_test)\n",
    "sns.heatmap(cm, annot=True)"
   ]
  },
  {
   "cell_type": "code",
   "execution_count": 74,
   "metadata": {},
   "outputs": [
    {
     "name": "stdout",
     "output_type": "stream",
     "text": [
      "              precision    recall  f1-score   support\n",
      "\n",
      "           0       0.75      0.69      0.72        13\n",
      "           1       0.20      0.25      0.22         4\n",
      "\n",
      "    accuracy                           0.59        17\n",
      "   macro avg       0.47      0.47      0.47        17\n",
      "weighted avg       0.62      0.59      0.60        17\n",
      "\n"
     ]
    }
   ],
   "source": [
    "print(classification_report(y_test, y_predict_test))"
   ]
  },
  {
   "cell_type": "code",
   "execution_count": 75,
   "metadata": {},
   "outputs": [
    {
     "name": "stdout",
     "output_type": "stream",
     "text": [
      "        importance\n",
      "Age       0.499720\n",
      "Start     0.389959\n",
      "Number    0.110321\n"
     ]
    }
   ],
   "source": [
    "feature_importances = pd.DataFrame(decision_tree.feature_importances_,\n",
    "                                   index = X_train.columns,\n",
    "                                    columns=['importance']).sort_values('importance',ascending=False)\n",
    "\n",
    "print(feature_importances)"
   ]
  },
  {
   "cell_type": "code",
   "execution_count": 76,
   "metadata": {},
   "outputs": [
    {
     "data": {
      "text/html": [
       "<style>#sk-container-id-6 {color: black;background-color: white;}#sk-container-id-6 pre{padding: 0;}#sk-container-id-6 div.sk-toggleable {background-color: white;}#sk-container-id-6 label.sk-toggleable__label {cursor: pointer;display: block;width: 100%;margin-bottom: 0;padding: 0.3em;box-sizing: border-box;text-align: center;}#sk-container-id-6 label.sk-toggleable__label-arrow:before {content: \"▸\";float: left;margin-right: 0.25em;color: #696969;}#sk-container-id-6 label.sk-toggleable__label-arrow:hover:before {color: black;}#sk-container-id-6 div.sk-estimator:hover label.sk-toggleable__label-arrow:before {color: black;}#sk-container-id-6 div.sk-toggleable__content {max-height: 0;max-width: 0;overflow: hidden;text-align: left;background-color: #f0f8ff;}#sk-container-id-6 div.sk-toggleable__content pre {margin: 0.2em;color: black;border-radius: 0.25em;background-color: #f0f8ff;}#sk-container-id-6 input.sk-toggleable__control:checked~div.sk-toggleable__content {max-height: 200px;max-width: 100%;overflow: auto;}#sk-container-id-6 input.sk-toggleable__control:checked~label.sk-toggleable__label-arrow:before {content: \"▾\";}#sk-container-id-6 div.sk-estimator input.sk-toggleable__control:checked~label.sk-toggleable__label {background-color: #d4ebff;}#sk-container-id-6 div.sk-label input.sk-toggleable__control:checked~label.sk-toggleable__label {background-color: #d4ebff;}#sk-container-id-6 input.sk-hidden--visually {border: 0;clip: rect(1px 1px 1px 1px);clip: rect(1px, 1px, 1px, 1px);height: 1px;margin: -1px;overflow: hidden;padding: 0;position: absolute;width: 1px;}#sk-container-id-6 div.sk-estimator {font-family: monospace;background-color: #f0f8ff;border: 1px dotted black;border-radius: 0.25em;box-sizing: border-box;margin-bottom: 0.5em;}#sk-container-id-6 div.sk-estimator:hover {background-color: #d4ebff;}#sk-container-id-6 div.sk-parallel-item::after {content: \"\";width: 100%;border-bottom: 1px solid gray;flex-grow: 1;}#sk-container-id-6 div.sk-label:hover label.sk-toggleable__label {background-color: #d4ebff;}#sk-container-id-6 div.sk-serial::before {content: \"\";position: absolute;border-left: 1px solid gray;box-sizing: border-box;top: 0;bottom: 0;left: 50%;z-index: 0;}#sk-container-id-6 div.sk-serial {display: flex;flex-direction: column;align-items: center;background-color: white;padding-right: 0.2em;padding-left: 0.2em;position: relative;}#sk-container-id-6 div.sk-item {position: relative;z-index: 1;}#sk-container-id-6 div.sk-parallel {display: flex;align-items: stretch;justify-content: center;background-color: white;position: relative;}#sk-container-id-6 div.sk-item::before, #sk-container-id-6 div.sk-parallel-item::before {content: \"\";position: absolute;border-left: 1px solid gray;box-sizing: border-box;top: 0;bottom: 0;left: 50%;z-index: -1;}#sk-container-id-6 div.sk-parallel-item {display: flex;flex-direction: column;z-index: 1;position: relative;background-color: white;}#sk-container-id-6 div.sk-parallel-item:first-child::after {align-self: flex-end;width: 50%;}#sk-container-id-6 div.sk-parallel-item:last-child::after {align-self: flex-start;width: 50%;}#sk-container-id-6 div.sk-parallel-item:only-child::after {width: 0;}#sk-container-id-6 div.sk-dashed-wrapped {border: 1px dashed gray;margin: 0 0.4em 0.5em 0.4em;box-sizing: border-box;padding-bottom: 0.4em;background-color: white;}#sk-container-id-6 div.sk-label label {font-family: monospace;font-weight: bold;display: inline-block;line-height: 1.2em;}#sk-container-id-6 div.sk-label-container {text-align: center;}#sk-container-id-6 div.sk-container {/* jupyter's `normalize.less` sets `[hidden] { display: none; }` but bootstrap.min.css set `[hidden] { display: none !important; }` so we also need the `!important` here to be able to override the default hidden behavior on the sphinx rendered scikit-learn.org. See: https://github.com/scikit-learn/scikit-learn/issues/21755 */display: inline-block !important;position: relative;}#sk-container-id-6 div.sk-text-repr-fallback {display: none;}</style><div id=\"sk-container-id-6\" class=\"sk-top-container\"><div class=\"sk-text-repr-fallback\"><pre>RandomForestClassifier()</pre><b>In a Jupyter environment, please rerun this cell to show the HTML representation or trust the notebook. <br />On GitHub, the HTML representation is unable to render, please try loading this page with nbviewer.org.</b></div><div class=\"sk-container\" hidden><div class=\"sk-item\"><div class=\"sk-estimator sk-toggleable\"><input class=\"sk-toggleable__control sk-hidden--visually\" id=\"sk-estimator-id-6\" type=\"checkbox\" checked><label for=\"sk-estimator-id-6\" class=\"sk-toggleable__label sk-toggleable__label-arrow\">RandomForestClassifier</label><div class=\"sk-toggleable__content\"><pre>RandomForestClassifier()</pre></div></div></div></div></div>"
      ],
      "text/plain": [
       "RandomForestClassifier()"
      ]
     },
     "execution_count": 76,
     "metadata": {},
     "output_type": "execute_result"
    }
   ],
   "source": [
    "from sklearn.ensemble import RandomForestClassifier\n",
    "RandomForest = RandomForestClassifier()\n",
    "RandomForest.fit(X_train, y_train)\n",
    "\n"
   ]
  },
  {
   "cell_type": "code",
   "execution_count": 77,
   "metadata": {},
   "outputs": [
    {
     "data": {
      "text/plain": [
       "<Axes: >"
      ]
     },
     "execution_count": 77,
     "metadata": {},
     "output_type": "execute_result"
    },
    {
     "data": {
      "image/png": "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",
      "text/plain": [
       "<Figure size 640x480 with 2 Axes>"
      ]
     },
     "metadata": {},
     "output_type": "display_data"
    }
   ],
   "source": [
    "y_predict_test = RandomForest.predict(X_test)\n",
    "cm = confusion_matrix(y_test, y_predict_test)\n",
    "sns.heatmap(cm, annot=True)\n",
    "\n"
   ]
  },
  {
   "cell_type": "code",
   "execution_count": 78,
   "metadata": {},
   "outputs": [
    {
     "name": "stdout",
     "output_type": "stream",
     "text": [
      "              precision    recall  f1-score   support\n",
      "\n",
      "           0       0.79      0.85      0.81        13\n",
      "           1       0.33      0.25      0.29         4\n",
      "\n",
      "    accuracy                           0.71        17\n",
      "   macro avg       0.56      0.55      0.55        17\n",
      "weighted avg       0.68      0.71      0.69        17\n",
      "\n"
     ]
    }
   ],
   "source": [
    "print(classification_report(y_test, y_predict_test))"
   ]
  }
 ],
 "metadata": {
  "kernelspec": {
   "display_name": "Python 3 (ipykernel)",
   "language": "python",
   "name": "python3"
  },
  "language_info": {
   "codemirror_mode": {
    "name": "ipython",
    "version": 3
   },
   "file_extension": ".py",
   "mimetype": "text/x-python",
   "name": "python",
   "nbconvert_exporter": "python",
   "pygments_lexer": "ipython3",
   "version": "3.11.7"
  },
  "widgets": {
   "state": {},
   "version": "1.1.2"
  }
 },
 "nbformat": 4,
 "nbformat_minor": 4
}
